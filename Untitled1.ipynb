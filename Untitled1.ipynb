{
 "cells": [
  {
   "cell_type": "code",
   "execution_count": 33,
   "metadata": {},
   "outputs": [
    {
     "name": "stdout",
     "output_type": "stream",
     "text": [
      "138\n"
     ]
    }
   ],
   "source": [
    "import numpy as np\n",
    "import cv2\n",
    "\n",
    "# Load the cascade\n",
    "face_cascade = cv2.CascadeClassifier('data/haarcascade_frontalface_default.xml')\n",
    "\n",
    "get_out = False\n",
    "dic_im = {}\n",
    "for i in range(26):\n",
    "    if get_out == False :\n",
    "        # Read the input image\n",
    "        img = cv2.imread('data/2/'+str(i)+'.jpg')\n",
    "        gray = cv2.cvtColor(img, cv2.COLOR_BGR2GRAY)\n",
    "        # Detect faces\n",
    "        faces = face_cascade.detectMultiScale(gray, 1.1, 4)\n",
    "        # Draw rectangle around the faces\n",
    "        for (x, y, w, h) in faces:\n",
    "            dic_im[i]= (w,h)\n",
    "            if i > 3 :\n",
    "                old_w,old_h = dic_im[i-1]\n",
    "                if w > old_w and w > 100:\n",
    "                    print(w)\n",
    "                    for (x, y, w, h) in faces:\n",
    "                        cv2.rectangle(img, (x, y), (x+w, y+h), (255, 0, 0), 2)\n",
    "                        get_out = True\n",
    "            \n",
    "  \n",
    "# Display the output\n",
    "cv2.imshow('img', img)\n",
    "cv2.waitKey(0)\n",
    "cv2.destroyAllWindows()\n"
   ]
  },
  {
   "cell_type": "code",
   "execution_count": null,
   "metadata": {},
   "outputs": [],
   "source": []
  }
 ],
 "metadata": {
  "kernelspec": {
   "display_name": "Python 3",
   "language": "python",
   "name": "python3"
  },
  "language_info": {
   "codemirror_mode": {
    "name": "ipython",
    "version": 3
   },
   "file_extension": ".py",
   "mimetype": "text/x-python",
   "name": "python",
   "nbconvert_exporter": "python",
   "pygments_lexer": "ipython3",
   "version": "3.7.6"
  }
 },
 "nbformat": 4,
 "nbformat_minor": 4
}
